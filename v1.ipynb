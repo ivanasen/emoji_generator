{
  "cells": [
    {
      "cell_type": "code",
      "execution_count": 3,
      "metadata": {
        "colab": {
          "base_uri": "https://localhost:8080/"
        },
        "id": "Po6z9bE_xrq1",
        "outputId": "a3a4387e-cca1-49be-8f84-26a3efb9c97b"
      },
      "outputs": [
        {
          "name": "stderr",
          "output_type": "stream",
          "text": [
            "[nltk_data] Downloading package stopwords to\n",
            "[nltk_data]     /Users/anapetrova/nltk_data...\n",
            "[nltk_data]   Package stopwords is already up-to-date!\n",
            "[nltk_data] Downloading package punkt_tab to\n",
            "[nltk_data]     /Users/anapetrova/nltk_data...\n",
            "[nltk_data]   Package punkt_tab is already up-to-date!\n",
            "[nltk_data] Downloading package wordnet to\n",
            "[nltk_data]     /Users/anapetrova/nltk_data...\n",
            "[nltk_data]   Package wordnet is already up-to-date!\n"
          ]
        }
      ],
      "source": [
        "import nltk\n",
        "from nltk.stem import PorterStemmer, WordNetLemmatizer, SnowballStemmer, LancasterStemmer\n",
        "from nltk.tokenize import word_tokenize\n",
        "import random\n",
        "from nltk.corpus import stopwords\n",
        "import re\n",
        "from nltk.metrics import edit_distance\n",
        "import numpy as np\n",
        "import pandas as pd\n",
        "import kagglehub\n",
        "\n",
        "nltk.download('stopwords')\n",
        "nltk.download('punkt_tab')\n",
        "nltk.download('wordnet')\n",
        "\n",
        "stop_words = set(stopwords.words('english'))"
      ]
    },
    {
      "cell_type": "code",
      "execution_count": 4,
      "metadata": {
        "colab": {
          "base_uri": "https://localhost:8080/",
          "height": 206
        },
        "id": "E3IbYbFY3lrP",
        "outputId": "4a7c0f53-909f-4407-c668-596b5c998ed8"
      },
      "outputs": [
        {
          "data": {
            "text/html": [
              "<div>\n",
              "<style scoped>\n",
              "    .dataframe tbody tr th:only-of-type {\n",
              "        vertical-align: middle;\n",
              "    }\n",
              "\n",
              "    .dataframe tbody tr th {\n",
              "        vertical-align: top;\n",
              "    }\n",
              "\n",
              "    .dataframe thead th {\n",
              "        text-align: right;\n",
              "    }\n",
              "</style>\n",
              "<table border=\"1\" class=\"dataframe\">\n",
              "  <thead>\n",
              "    <tr style=\"text-align: right;\">\n",
              "      <th></th>\n",
              "      <th>Unnamed: 0</th>\n",
              "      <th>TEXT</th>\n",
              "      <th>Label</th>\n",
              "    </tr>\n",
              "  </thead>\n",
              "  <tbody>\n",
              "    <tr>\n",
              "      <th>0</th>\n",
              "      <td>0</td>\n",
              "      <td>Vacation wasted ! #vacation2017 #photobomb #ti...</td>\n",
              "      <td>0</td>\n",
              "    </tr>\n",
              "    <tr>\n",
              "      <th>1</th>\n",
              "      <td>1</td>\n",
              "      <td>Oh Wynwood, you’re so funny! : @user #Wynwood ...</td>\n",
              "      <td>1</td>\n",
              "    </tr>\n",
              "    <tr>\n",
              "      <th>2</th>\n",
              "      <td>2</td>\n",
              "      <td>Been friends since 7th grade. Look at us now w...</td>\n",
              "      <td>2</td>\n",
              "    </tr>\n",
              "    <tr>\n",
              "      <th>3</th>\n",
              "      <td>3</td>\n",
              "      <td>This is what it looks like when someone loves ...</td>\n",
              "      <td>3</td>\n",
              "    </tr>\n",
              "    <tr>\n",
              "      <th>4</th>\n",
              "      <td>4</td>\n",
              "      <td>RT @user this white family was invited to a Bl...</td>\n",
              "      <td>3</td>\n",
              "    </tr>\n",
              "  </tbody>\n",
              "</table>\n",
              "</div>"
            ],
            "text/plain": [
              "   Unnamed: 0                                               TEXT  Label\n",
              "0           0  Vacation wasted ! #vacation2017 #photobomb #ti...      0\n",
              "1           1  Oh Wynwood, you’re so funny! : @user #Wynwood ...      1\n",
              "2           2  Been friends since 7th grade. Look at us now w...      2\n",
              "3           3  This is what it looks like when someone loves ...      3\n",
              "4           4  RT @user this white family was invited to a Bl...      3"
            ]
          },
          "execution_count": 4,
          "metadata": {},
          "output_type": "execute_result"
        }
      ],
      "source": [
        "twitter_path = kagglehub.dataset_download(\"hariharasudhanas/twitter-emoji-prediction\")\n",
        "\n",
        "twitter_ds = pd.read_csv(f\"{twitter_path}/Train.csv\")\n",
        "twitter_ds.head()"
      ]
    },
    {
      "cell_type": "code",
      "execution_count": 5,
      "metadata": {
        "colab": {
          "base_uri": "https://localhost:8080/",
          "height": 423
        },
        "id": "RIc1TPYnzCr0",
        "outputId": "bf814388-8601-4fd2-aa70-f12ec78e9764"
      },
      "outputs": [
        {
          "data": {
            "text/html": [
              "<div>\n",
              "<style scoped>\n",
              "    .dataframe tbody tr th:only-of-type {\n",
              "        vertical-align: middle;\n",
              "    }\n",
              "\n",
              "    .dataframe tbody tr th {\n",
              "        vertical-align: top;\n",
              "    }\n",
              "\n",
              "    .dataframe thead th {\n",
              "        text-align: right;\n",
              "    }\n",
              "</style>\n",
              "<table border=\"1\" class=\"dataframe\">\n",
              "  <thead>\n",
              "    <tr style=\"text-align: right;\">\n",
              "      <th></th>\n",
              "      <th>Group</th>\n",
              "      <th>Subgroup</th>\n",
              "      <th>CodePoint</th>\n",
              "      <th>Status</th>\n",
              "      <th>Representation</th>\n",
              "      <th>Name</th>\n",
              "      <th>Section</th>\n",
              "    </tr>\n",
              "  </thead>\n",
              "  <tbody>\n",
              "    <tr>\n",
              "      <th>0</th>\n",
              "      <td>Activities</td>\n",
              "      <td>event</td>\n",
              "      <td>1F383</td>\n",
              "      <td>fully-qualified</td>\n",
              "      <td>🎃</td>\n",
              "      <td>jack-o-lantern</td>\n",
              "      <td>E0.6</td>\n",
              "    </tr>\n",
              "    <tr>\n",
              "      <th>1</th>\n",
              "      <td>Activities</td>\n",
              "      <td>event</td>\n",
              "      <td>1F384</td>\n",
              "      <td>fully-qualified</td>\n",
              "      <td>🎄</td>\n",
              "      <td>Christmas tree</td>\n",
              "      <td>E0.6</td>\n",
              "    </tr>\n",
              "    <tr>\n",
              "      <th>2</th>\n",
              "      <td>Activities</td>\n",
              "      <td>event</td>\n",
              "      <td>1F386</td>\n",
              "      <td>fully-qualified</td>\n",
              "      <td>🎆</td>\n",
              "      <td>fireworks</td>\n",
              "      <td>E0.6</td>\n",
              "    </tr>\n",
              "    <tr>\n",
              "      <th>3</th>\n",
              "      <td>Activities</td>\n",
              "      <td>event</td>\n",
              "      <td>1F387</td>\n",
              "      <td>fully-qualified</td>\n",
              "      <td>🎇</td>\n",
              "      <td>sparkler</td>\n",
              "      <td>E0.6</td>\n",
              "    </tr>\n",
              "    <tr>\n",
              "      <th>4</th>\n",
              "      <td>Activities</td>\n",
              "      <td>event</td>\n",
              "      <td>1F9E8</td>\n",
              "      <td>fully-qualified</td>\n",
              "      <td>🧨</td>\n",
              "      <td>firecracker</td>\n",
              "      <td>E11.0</td>\n",
              "    </tr>\n",
              "    <tr>\n",
              "      <th>...</th>\n",
              "      <td>...</td>\n",
              "      <td>...</td>\n",
              "      <td>...</td>\n",
              "      <td>...</td>\n",
              "      <td>...</td>\n",
              "      <td>...</td>\n",
              "      <td>...</td>\n",
              "    </tr>\n",
              "    <tr>\n",
              "      <th>4585</th>\n",
              "      <td>Travel-Places</td>\n",
              "      <td>sky-weather</td>\n",
              "      <td>2604 FE0F</td>\n",
              "      <td>fully-qualified</td>\n",
              "      <td>☄️</td>\n",
              "      <td>comet</td>\n",
              "      <td>E1.0</td>\n",
              "    </tr>\n",
              "    <tr>\n",
              "      <th>4586</th>\n",
              "      <td>Travel-Places</td>\n",
              "      <td>sky-weather</td>\n",
              "      <td>2604</td>\n",
              "      <td>unqualified</td>\n",
              "      <td>☄</td>\n",
              "      <td>comet</td>\n",
              "      <td>E1.0</td>\n",
              "    </tr>\n",
              "    <tr>\n",
              "      <th>4587</th>\n",
              "      <td>Travel-Places</td>\n",
              "      <td>sky-weather</td>\n",
              "      <td>1F525</td>\n",
              "      <td>fully-qualified</td>\n",
              "      <td>🔥</td>\n",
              "      <td>fire</td>\n",
              "      <td>E0.6</td>\n",
              "    </tr>\n",
              "    <tr>\n",
              "      <th>4588</th>\n",
              "      <td>Travel-Places</td>\n",
              "      <td>sky-weather</td>\n",
              "      <td>1F4A7</td>\n",
              "      <td>fully-qualified</td>\n",
              "      <td>💧</td>\n",
              "      <td>droplet</td>\n",
              "      <td>E0.6</td>\n",
              "    </tr>\n",
              "    <tr>\n",
              "      <th>4589</th>\n",
              "      <td>Travel-Places</td>\n",
              "      <td>sky-weather</td>\n",
              "      <td>1F30A</td>\n",
              "      <td>fully-qualified</td>\n",
              "      <td>🌊</td>\n",
              "      <td>water wave</td>\n",
              "      <td>E0.6</td>\n",
              "    </tr>\n",
              "  </tbody>\n",
              "</table>\n",
              "<p>4590 rows × 7 columns</p>\n",
              "</div>"
            ],
            "text/plain": [
              "              Group     Subgroup  CodePoint           Status Representation  \\\n",
              "0        Activities        event      1F383  fully-qualified              🎃   \n",
              "1        Activities        event      1F384  fully-qualified              🎄   \n",
              "2        Activities        event      1F386  fully-qualified              🎆   \n",
              "3        Activities        event      1F387  fully-qualified              🎇   \n",
              "4        Activities        event      1F9E8  fully-qualified              🧨   \n",
              "...             ...          ...        ...              ...            ...   \n",
              "4585  Travel-Places  sky-weather  2604 FE0F  fully-qualified             ☄️   \n",
              "4586  Travel-Places  sky-weather       2604      unqualified              ☄   \n",
              "4587  Travel-Places  sky-weather      1F525  fully-qualified              🔥   \n",
              "4588  Travel-Places  sky-weather      1F4A7  fully-qualified              💧   \n",
              "4589  Travel-Places  sky-weather      1F30A  fully-qualified              🌊   \n",
              "\n",
              "                Name Section  \n",
              "0     jack-o-lantern    E0.6  \n",
              "1     Christmas tree    E0.6  \n",
              "2          fireworks    E0.6  \n",
              "3           sparkler    E0.6  \n",
              "4        firecracker   E11.0  \n",
              "...              ...     ...  \n",
              "4585           comet    E1.0  \n",
              "4586           comet    E1.0  \n",
              "4587            fire    E0.6  \n",
              "4588         droplet    E0.6  \n",
              "4589      water wave    E0.6  \n",
              "\n",
              "[4590 rows x 7 columns]"
            ]
          },
          "execution_count": 5,
          "metadata": {},
          "output_type": "execute_result"
        }
      ],
      "source": [
        "emojis_dataset = pd.read_csv(\"./emojis.csv\")\n",
        "emojis_dataset"
      ]
    },
    {
      "cell_type": "code",
      "execution_count": 6,
      "metadata": {
        "id": "2Q4FY3f6yCKC"
      },
      "outputs": [],
      "source": [
        "def pre_process(sentence: str) -> list[str]:\n",
        "  ps = PorterStemmer()\n",
        "  clean_sent = re.sub(r'[^\\w\\s]', '', sentence)\n",
        "  tokens = word_tokenize(clean_sent)\n",
        "  stemmed_sent = [ps.stem(t) for t in tokens]\n",
        "  tokens = [t for t in stemmed_sent if t not in stop_words]\n",
        "  return tokens"
      ]
    },
    {
      "cell_type": "code",
      "execution_count": 7,
      "metadata": {
        "colab": {
          "base_uri": "https://localhost:8080/"
        },
        "id": "K8NrsXX5xrq2",
        "outputId": "a3fa4501-4fae-4b4b-d141-0c401cea69e1"
      },
      "outputs": [
        {
          "data": {
            "text/plain": [
              "['want', 'castl', 'christma']"
            ]
          },
          "execution_count": 7,
          "metadata": {},
          "output_type": "execute_result"
        }
      ],
      "source": [
        "sent = \"I want castle for Christmas\"\n",
        "tokens = pre_process(sent)\n",
        "\n",
        "tokens"
      ]
    },
    {
      "cell_type": "code",
      "execution_count": 8,
      "metadata": {
        "colab": {
          "base_uri": "https://localhost:8080/",
          "height": 423
        },
        "id": "1mIajgcAxrq2",
        "outputId": "fa2d7e22-9d7a-46d7-8409-8a77ced93785"
      },
      "outputs": [
        {
          "name": "stderr",
          "output_type": "stream",
          "text": [
            "/var/folders/jc/rb1l1qnx0xn0b9pqywbb61nh0000gn/T/ipykernel_90021/4276787485.py:2: SettingWithCopyWarning: \n",
            "A value is trying to be set on a copy of a slice from a DataFrame.\n",
            "Try using .loc[row_indexer,col_indexer] = value instead\n",
            "\n",
            "See the caveats in the documentation: https://pandas.pydata.org/pandas-docs/stable/user_guide/indexing.html#returning-a-view-versus-a-copy\n",
            "  emojis_dataset[\"Stemmed\"] = [pre_process(emoji_sent) for emoji_sent in emojis_dataset.Name]\n"
          ]
        },
        {
          "data": {
            "text/html": [
              "<div>\n",
              "<style scoped>\n",
              "    .dataframe tbody tr th:only-of-type {\n",
              "        vertical-align: middle;\n",
              "    }\n",
              "\n",
              "    .dataframe tbody tr th {\n",
              "        vertical-align: top;\n",
              "    }\n",
              "\n",
              "    .dataframe thead th {\n",
              "        text-align: right;\n",
              "    }\n",
              "</style>\n",
              "<table border=\"1\" class=\"dataframe\">\n",
              "  <thead>\n",
              "    <tr style=\"text-align: right;\">\n",
              "      <th></th>\n",
              "      <th>Representation</th>\n",
              "      <th>Name</th>\n",
              "      <th>Stemmed</th>\n",
              "    </tr>\n",
              "  </thead>\n",
              "  <tbody>\n",
              "    <tr>\n",
              "      <th>0</th>\n",
              "      <td>🎃</td>\n",
              "      <td>jack-o-lantern</td>\n",
              "      <td>[jackolantern]</td>\n",
              "    </tr>\n",
              "    <tr>\n",
              "      <th>1</th>\n",
              "      <td>🎄</td>\n",
              "      <td>Christmas tree</td>\n",
              "      <td>[christma, tree]</td>\n",
              "    </tr>\n",
              "    <tr>\n",
              "      <th>2</th>\n",
              "      <td>🎆</td>\n",
              "      <td>fireworks</td>\n",
              "      <td>[firework]</td>\n",
              "    </tr>\n",
              "    <tr>\n",
              "      <th>3</th>\n",
              "      <td>🎇</td>\n",
              "      <td>sparkler</td>\n",
              "      <td>[sparkler]</td>\n",
              "    </tr>\n",
              "    <tr>\n",
              "      <th>4</th>\n",
              "      <td>🧨</td>\n",
              "      <td>firecracker</td>\n",
              "      <td>[firecrack]</td>\n",
              "    </tr>\n",
              "    <tr>\n",
              "      <th>...</th>\n",
              "      <td>...</td>\n",
              "      <td>...</td>\n",
              "      <td>...</td>\n",
              "    </tr>\n",
              "    <tr>\n",
              "      <th>4585</th>\n",
              "      <td>☄️</td>\n",
              "      <td>comet</td>\n",
              "      <td>[comet]</td>\n",
              "    </tr>\n",
              "    <tr>\n",
              "      <th>4586</th>\n",
              "      <td>☄</td>\n",
              "      <td>comet</td>\n",
              "      <td>[comet]</td>\n",
              "    </tr>\n",
              "    <tr>\n",
              "      <th>4587</th>\n",
              "      <td>🔥</td>\n",
              "      <td>fire</td>\n",
              "      <td>[fire]</td>\n",
              "    </tr>\n",
              "    <tr>\n",
              "      <th>4588</th>\n",
              "      <td>💧</td>\n",
              "      <td>droplet</td>\n",
              "      <td>[droplet]</td>\n",
              "    </tr>\n",
              "    <tr>\n",
              "      <th>4589</th>\n",
              "      <td>🌊</td>\n",
              "      <td>water wave</td>\n",
              "      <td>[water, wave]</td>\n",
              "    </tr>\n",
              "  </tbody>\n",
              "</table>\n",
              "<p>4590 rows × 3 columns</p>\n",
              "</div>"
            ],
            "text/plain": [
              "     Representation            Name           Stemmed\n",
              "0                 🎃  jack-o-lantern    [jackolantern]\n",
              "1                 🎄  Christmas tree  [christma, tree]\n",
              "2                 🎆       fireworks        [firework]\n",
              "3                 🎇        sparkler        [sparkler]\n",
              "4                 🧨     firecracker       [firecrack]\n",
              "...             ...             ...               ...\n",
              "4585             ☄️           comet           [comet]\n",
              "4586              ☄           comet           [comet]\n",
              "4587              🔥            fire            [fire]\n",
              "4588              💧         droplet         [droplet]\n",
              "4589              🌊      water wave     [water, wave]\n",
              "\n",
              "[4590 rows x 3 columns]"
            ]
          },
          "execution_count": 8,
          "metadata": {},
          "output_type": "execute_result"
        }
      ],
      "source": [
        "emojis_dataset = emojis_dataset[[\"Representation\", \"Name\"]]\n",
        "emojis_dataset[\"Stemmed\"] = [pre_process(emoji_sent) for emoji_sent in emojis_dataset.Name]\n",
        "emojis_dataset"
      ]
    },
    {
      "cell_type": "code",
      "execution_count": 9,
      "metadata": {
        "id": "76Qy7mKbz3jN"
      },
      "outputs": [],
      "source": [
        "def emojify(sent: str) -> str:\n",
        "  tokens = pre_process(sent)\n",
        "\n",
        "  result = \"\"\n",
        "\n",
        "  for token in tokens:\n",
        "    matches = []\n",
        "\n",
        "    for _, emoji in emojis_dataset.iterrows():\n",
        "      if token in emoji.Stemmed:\n",
        "        matches.append((emoji.Representation, emoji.Stemmed))\n",
        "\n",
        "    if len(matches) > 0:\n",
        "      result += matches[random.randint(0, len(matches) - 1)][0]\n",
        "    else:\n",
        "      result += token\n",
        "    result += \" \"\n",
        "\n",
        "  return result"
      ]
    },
    {
      "cell_type": "code",
      "execution_count": 10,
      "metadata": {
        "id": "V8QbLgpA2P_W"
      },
      "outputs": [],
      "source": [
        "def emojify_stop_words(sent: str) -> str:\n",
        "  tokens = word_tokenize(sent)\n",
        "\n",
        "  result = \"\"\n",
        "\n",
        "  for token in tokens:\n",
        "    processed = pre_process(token)\n",
        "\n",
        "    if len(processed) == 0: # It is stop-word\n",
        "      result += token + \" \"\n",
        "      continue\n",
        "\n",
        "    processed = processed[0]\n",
        "\n",
        "    matches = []\n",
        "\n",
        "    for _, emoji in emojis_dataset.iterrows():\n",
        "      #for emoji_token in emoji.Stemmed:\n",
        "      #  dist = edit_distance(processed, emoji_token)\n",
        "      #  if dist < 2:\n",
        "      #    matches.append((emoji.Representation, emoji.Stemmed))\n",
        "      if processed in emoji.Stemmed:\n",
        "        matches.append((emoji.Representation, emoji.Stemmed))\n",
        "\n",
        "    if len(matches) > 0:\n",
        "      # result += matches[random.randint(0, len(matches) - 1)][0]\n",
        "      # result += choose_random_weighted(matches)[0]\n",
        "      result += choose_shortest_len(matches)[0]\n",
        "    else:\n",
        "      result += token\n",
        "    result += \" \"\n",
        "\n",
        "  return result"
      ]
    },
    {
      "cell_type": "code",
      "execution_count": 11,
      "metadata": {
        "id": "ZhXPzItB8j-V"
      },
      "outputs": [],
      "source": [
        "def softmax(x):\n",
        "  return np.exp(x) / sum(np.exp(x))\n",
        "\n",
        "def choose_random_weighted(matches: list[tuple[str, list[str]]]) -> str:\n",
        "  probs = softmax([1 / len(m[1]) for m in matches])\n",
        "  idx = np.random.choice(range(len(matches)), 1, p=probs)\n",
        "  return matches[idx[0]]\n",
        "\n",
        "def choose_shortest_len(matches: list[tuple[str, list[str]]]) -> str:\n",
        "  return sorted(matches, key=lambda x: len(x[1]))[0]"
      ]
    },
    {
      "cell_type": "code",
      "execution_count": 12,
      "metadata": {
        "colab": {
          "base_uri": "https://localhost:8080/"
        },
        "id": "ERdGvQys2MO0",
        "outputId": "af50e8d5-fb79-4b01-dfe9-d790bcca0b0b"
      },
      "outputs": [
        {
          "name": "stdout",
          "output_type": "stream",
          "text": [
            "like 🇬🇸 \n",
            "want 🏯 🎄 \n"
          ]
        }
      ],
      "source": [
        "print(emojify(\"I like sandwich\"))\n",
        "print(emojify(\"I want castle for Christmas\"))"
      ]
    },
    {
      "cell_type": "code",
      "execution_count": 13,
      "metadata": {
        "colab": {
          "base_uri": "https://localhost:8080/"
        },
        "id": "R0L8n6Et3HQW",
        "outputId": "d72a9814-14b5-48f5-9b53-9d821d523712"
      },
      "outputs": [
        {
          "name": "stdout",
          "output_type": "stream",
          "text": [
            "I like 🥪 \n",
            "I want 🏰 for 🎄 \n"
          ]
        }
      ],
      "source": [
        "print(emojify_stop_words(\"I like sandwich\"))\n",
        "print(emojify_stop_words(\"I want castle for Christmas\"))"
      ]
    },
    {
      "cell_type": "code",
      "execution_count": 14,
      "metadata": {
        "colab": {
          "base_uri": "https://localhost:8080/"
        },
        "id": "-Q77yJIC4_px",
        "outputId": "5a052e80-6b59-4234-edeb-ed23a4dd9076"
      },
      "outputs": [
        {
          "name": "stdout",
          "output_type": "stream",
          "text": [
            "Original: @user you're the sweetest thank you baby doll\n",
            "\n",
            "Emojified: @ user you 're the sweetest thank you 👶 🎎 \n",
            "---------------------------\n",
            "Original: 25 Days of Christmas Pictures Day 8: Nutcracker Ballet#livinglifephotography #nutcrackerballet…\n",
            "\n",
            "Emojified: 25 Days of 🎄 🖼️ Day 8️⃣ : Nutcracker 🩰 # livinglifephotography # nutcrackerballet… \n",
            "---------------------------\n",
            "Original: Wonderful cake So realistic @ St.Albans, Queens, Newyork\n",
            "\n",
            "Emojified: Wonderful 🥮 So realistic @ St.Albans , Queens , Newyork \n",
            "---------------------------\n",
            "Original: I just love love!! Also isn’t my best friend just the most BEAUTIFUL BRIDE to grace this…\n",
            "\n",
            "Emojified: I just 💌 💌 ! ! Also isn ’ t my best friend just the most BEAUTIFUL BRIDE to grace this… \n",
            "---------------------------\n",
            "Original: It's beginning to look a lot like...well, you know.Shop gifts galore at @user\n",
            "\n",
            "Emojified: It 's beginning to look a lot like ... well , you know.Shop 🎁 galore at @ user \n",
            "---------------------------\n",
            "Original: @ The Rally Hotel\n",
            "\n",
            "Emojified: @ The Rally 🏨 \n",
            "---------------------------\n",
            "Original: I would have given up along time ago if it weren't for you I love…\n",
            "\n",
            "Emojified: I would have given up along time ago if it were n't for you I 💌 \n",
            "---------------------------\n",
            "Original: Woke up to this.... @user @user\n",
            "\n",
            "Emojified: Woke up to this .... @ user @ user \n",
            "---------------------------\n",
            "Original: #swimming with the fam msdorsey83 mspooh1218 @user @user\n",
            "\n",
            "Emojified: # 🏊 with the fam msdorsey83 mspooh1218 @ user @ user \n",
            "---------------------------\n",
            "Original: Explored a cave today #secretcaverns #tour #cave #iseemonsters #justkiddingitwasreallyawesome…\n",
            "\n",
            "Emojified: Explored a cave today # secretcaverns # tour # cave # iseemonsters # justkiddingitwasreallyawesome… \n",
            "---------------------------\n"
          ]
        }
      ],
      "source": [
        "for _, tweet in twitter_ds.sample(10).iterrows():\n",
        "  print('Original:', tweet.TEXT)\n",
        "  #print('Emojified:', emojify(tweet.TEXT))\n",
        "  print('Emojified:', emojify_stop_words(tweet.TEXT))\n",
        "  print('---------------------------')"
      ]
    },
    {
      "cell_type": "code",
      "execution_count": 15,
      "metadata": {
        "colab": {
          "base_uri": "https://localhost:8080/"
        },
        "id": "7zB1kx6b7SRC",
        "outputId": "97697b62-2c34-4e42-db58-269f26507ee5"
      },
      "outputs": [
        {
          "name": "stdout",
          "output_type": "stream",
          "text": [
            "Emojified: flexin 👙 🏞 📺 thing never would imagin 500 alex \n",
            "Emojified with stop words: Flexin ' in a 👙 on 🏞️ 📺 Things I never would have imagined for 500 , Alex -- Did… \n"
          ]
        }
      ],
      "source": [
        "tweet = \"Flexin' in a bikini on national television- Things I never would have imagined for 500, Alex -- Did…\"\n",
        "print('Emojified:', emojify(tweet))\n",
        "print('Emojified with stop words:', emojify_stop_words(tweet))"
      ]
    },
    {
      "cell_type": "code",
      "execution_count": 16,
      "metadata": {
        "colab": {
          "base_uri": "https://localhost:8080/"
        },
        "id": "LGO2ekigBZ43",
        "outputId": "c1f061bb-90cd-4717-a72f-4abd0460772b"
      },
      "outputs": [
        {
          "name": "stdout",
          "output_type": "stream",
          "text": [
            "Emojified: Confessions of a 🍬 maker : I 💌 ️ # toffee ! # buttery crisphandmade toffee dipped in 🥛 \n"
          ]
        }
      ],
      "source": [
        "tweet = \"Confessions of a candy maker: I love ️ #toffee! #buttery crisphandmade toffee dipped in milk…\"\n",
        "print('Emojified:', emojify_stop_words(tweet))"
      ]
    },
    {
      "cell_type": "code",
      "execution_count": 17,
      "metadata": {
        "colab": {
          "base_uri": "https://localhost:8080/"
        },
        "id": "ucS7CEo1AKWZ",
        "outputId": "ce566948-c6a4-46c3-adc6-884e2d710f8f"
      },
      "outputs": [
        {
          "name": "stdout",
          "output_type": "stream",
          "text": [
            "Clean Confessions of a candy I love buttery\n",
            "Tokenize ['Confessions', 'of', 'a', 'candy', 'I', 'love', 'buttery']\n",
            "['Confessions', 'of', 'a', 'candy', 'I', 'love', 'buttery']\n",
            "['Confessions', 'candy', 'I', 'love', 'buttery']\n"
          ]
        }
      ],
      "source": [
        "def pre_process_lemmatizer(sentence: str) -> list[str]:\n",
        "  ps = WordNetLemmatizer()\n",
        "  clean_sent = re.sub(r'[^\\w\\s]', '', sentence)\n",
        "  print('Clean', clean_sent)\n",
        "  tokens = word_tokenize(clean_sent)\n",
        "  print('Tokenize', tokens)\n",
        "  stemmed_sent = [ps.lemmatize(t) for t in tokens]\n",
        "  print(stemmed_sent)\n",
        "  tokens = [t for t in stemmed_sent if t not in stop_words]\n",
        "  return tokens\n",
        "\n",
        "# We need embeddings, because \"buttery\" is also a noun: https://dictionary.cambridge.org/dictionary/english/buttery\n",
        "print(pre_process_lemmatizer(\"Confessions of a candy I love ️buttery\"))"
      ]
    },
    {
      "cell_type": "code",
      "execution_count": 18,
      "metadata": {
        "colab": {
          "base_uri": "https://localhost:8080/"
        },
        "id": "wibRMz0cEe89",
        "outputId": "c134de28-0362-4c6c-e57b-272510fc64f4"
      },
      "outputs": [
        {
          "name": "stdout",
          "output_type": "stream",
          "text": [
            "Tokenize ['Confessions', 'of', 'a', 'candy', 'maker', 'I', 'love', 'toffee', 'buttery', 'crisphandmade', 'toffee', 'dipped', 'in', 'milk']\n",
            "['confess', 'of', 'a', 'candy', 'mak', 'i', 'lov', 'toff', 'buttery', 'crisphandmad', 'toff', 'dip', 'in', 'milk']\n",
            "['confess', 'candy', 'mak', 'lov', 'toff', 'buttery', 'crisphandmad', 'toff', 'dip', 'milk']\n"
          ]
        }
      ],
      "source": [
        "def pre_process_snowball(sentence: str) -> list[str]:\n",
        "  ps = LancasterStemmer()\n",
        "  clean_sent = re.sub(r'[^\\w\\s]', '', sentence)\n",
        "  tokens = word_tokenize(clean_sent)\n",
        "  print('Tokenize', tokens)\n",
        "  stemmed_sent = [ps.stem(t) for t in tokens]\n",
        "  print(stemmed_sent)\n",
        "  tokens = [t for t in stemmed_sent if t not in stop_words]\n",
        "  return tokens\n",
        "\n",
        "print(pre_process_snowball(\"Confessions of a candy maker: I love ️ #toffee! #buttery crisphandmade toffee dipped in milk\"))"
      ]
    },
    {
      "cell_type": "code",
      "execution_count": null,
      "metadata": {
        "colab": {
          "base_uri": "https://localhost:8080/"
        },
        "id": "d6OplC4PLIEo",
        "outputId": "161f05ca-655a-40eb-8d73-cd58e5224615"
      },
      "outputs": [
        {
          "name": "stdout",
          "output_type": "stream",
          "text": [
            "⭐ 👦 \n",
            "i 💌 you \n",
            "the 🍕 is great \n",
            "🐔 lays 🥚 \n",
            "i have 🎼 💯 in maths \n",
            "She is the queen of ♥️ \n",
            "messi is the king of ⚽ \n",
            "lets 🏛️ a 🚀 \n"
          ]
        }
      ],
      "source": [
        "print(emojify_stop_words(\"star boy\"))\n",
        "print(emojify_stop_words(\"i love you \"))\n",
        "print(emojify_stop_words(\"the pizza is great\"))\n",
        "print(emojify_stop_words(\"chicken lays eggs \"))\n",
        "print(emojify_stop_words(\"i have scored hundred in maths \"))\n",
        "print(emojify_stop_words(\"She is the queen of hearts \"))\n",
        "print(emojify_stop_words(\"messi is the king of soccer \"))\n",
        "print(emojify_stop_words(\"lets build a rocket \"))"
      ]
    },
    {
      "cell_type": "markdown",
      "metadata": {
        "id": "h37N8iCuNZI0"
      },
      "source": [
        "# How to evaluate performance on this\n",
        "\n",
        "## Part 1: Is the meaning preserved?\n",
        "\n",
        "Introduce an inverse function from \"emojified text\"\n",
        "to normal text, by replacing emojis with their text meaning:\n",
        "\n",
        "- Input sentence: \"Chicken lays eggs\"\n",
        "- Pre-processed input: \"Chicken lay egg\"\n",
        "- Output sentence: \"🍕 lays 🥚\"\n",
        "- Inverse of output: \"pizza lay egg\"\n",
        "\n",
        "Then compare \"Pre-processed\" and \"Inverse\" somehow.\n",
        "\n",
        "## Part 2: Give positive score for number of used emojis\n",
        "\n",
        "**Idea:** The more emojis are used, the bigger the score.\n",
        "\n",
        "### Part 3: Combine 1 and 2 into a score\n",
        "\n",
        "### Part 4: Reinforcement learning..."
      ]
    }
  ],
  "metadata": {
    "colab": {
      "provenance": []
    },
    "kernelspec": {
      "display_name": "base",
      "language": "python",
      "name": "python3"
    },
    "language_info": {
      "codemirror_mode": {
        "name": "ipython",
        "version": 3
      },
      "file_extension": ".py",
      "mimetype": "text/x-python",
      "name": "python",
      "nbconvert_exporter": "python",
      "pygments_lexer": "ipython3",
      "version": "3.9.7"
    }
  },
  "nbformat": 4,
  "nbformat_minor": 0
}
